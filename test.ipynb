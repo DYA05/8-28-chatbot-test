{
 "cells": [
  {
   "cell_type": "code",
   "execution_count": 23,
   "metadata": {},
   "outputs": [
    {
     "name": "stdout",
     "output_type": "stream",
     "text": [
      "AI의 응답: 안녕하세요! 어떻게 도와드릴까요?\n"
     ]
    }
   ],
   "source": [
    "from openai import OpenAI\n",
    "\n",
    "client = OpenAI()\n",
    "completion = client.chat.completions.create(\n",
    "    model=\"gpt-4\",\n",
    "    messages=[\n",
    "        {\"role\": \"user\", \"content\": \"안녕?\"}\n",
    "    ]\n",
    ")\n",
    "# 응답 출력\n",
    "# answer = completion.choices[0].text.strip()\n",
    "print(\"AI의 응답:\", completion.choices[0].message.content)"
   ]
  },
  {
   "cell_type": "code",
   "execution_count": 29,
   "metadata": {},
   "outputs": [],
   "source": [
    "from langchain.chat_models import ChatOpenAI\n",
    "from langchain.chains import LLMChain\n",
    "from langchain.memory import ConversationBufferMemory\n",
    "from langchain.prompts import ChatPromptTemplate, MessagesPlaceholder\n",
    "\n",
    "# OpenAI API 설정\n",
    "openai_api_key = \"api key\"\n",
    "\n",
    "# 랭체인 메모리 설정\n",
    "memory = ConversationBufferMemory(return_messages=True)\n",
    "\n",
    "# 프롬프트 템플릿 설정\n",
    "prompt = ChatPromptTemplate.from_messages([\n",
    "    (\"system\", \"당신은 글을 요약합니다. 글을 입력하면 요약합니다. 요약한 글에 대하여 추가 요구사항을 입력하면 요구사항을 반영합니다.\"),\n",
    "    MessagesPlaceholder(variable_name=\"history\"),\n",
    "    (\"human\", \"{input}\")\n",
    "])\n",
    "\n",
    "# OpenAI와 메모리를 사용하는 체인 설정\n",
    "llm = ChatOpenAI(api_key=openai_api_key, model=\"gpt-4\")\n",
    "chain = LLMChain(llm=llm, prompt=prompt, memory=memory)"
   ]
  },
  {
   "cell_type": "code",
   "execution_count": 30,
   "metadata": {},
   "outputs": [
    {
     "name": "stdout",
     "output_type": "stream",
     "text": [
      "AI의 응답: 수정된 코드를 통해 v1/chat/completions 엔드포인트를 이용해 GPT-4 모델과 대화할 수 있게 되었습니다. 이를 통해 ChatOpenAI 클래스를 사용하면 chat model의 올바른 엔드포인트를 사용하게 되어 오류가 발생하지 않습니다.\n"
     ]
    }
   ],
   "source": [
    "# 사용자 입력 및 응답\n",
    "user_input = \"이제 수정된 코드가 올바르게 v1/chat/completions 엔드포인트를 사용하여 GPT-4 모델과 대화할 수 있습니다. 이 방식으로 ChatOpenAI 클래스를 사용하면 chat model의 올바른 엔드포인트를 사용하게 되므로 오류가 발생하지 않습니다.\"\n",
    "response = chain.run(input=user_input)\n",
    "\n",
    "print(\"AI의 응답:\", response)"
   ]
  },
  {
   "cell_type": "code",
   "execution_count": 33,
   "metadata": {},
   "outputs": [
    {
     "name": "stdout",
     "output_type": "stream",
     "text": [
      "AI의 응답: 수정된 코드를 통해 GPT-4 모델과의 대화에서 오류가 발생하지 않게 되었습니다.\n"
     ]
    }
   ],
   "source": [
    "user_input = \"좀더 짧게 요약해줘\"\n",
    "response = chain.run(input=user_input)\n",
    "\n",
    "print(\"AI의 응답:\", response)"
   ]
  },
  {
   "cell_type": "code",
   "execution_count": 35,
   "metadata": {},
   "outputs": [],
   "source": [
    "from gtts import gTTS\n",
    "import os\n",
    "\n",
    "\n",
    "# 변환할 텍스트 입력\n",
    "text = \"안녕하세요. 파이썬을 사용하여 텍스트를 음성으로 변환하고 있습니다.\"\n",
    "\n",
    "# gTTS 객체 생성 (언어는 'ko'로 한국어 설정)\n",
    "tts = gTTS(text=text, lang='ko')\n",
    "\n",
    "# 음성 파일 저장\n",
    "tts.save(\"output.mp3\")"
   ]
  },
  {
   "cell_type": "code",
   "execution_count": null,
   "metadata": {},
   "outputs": [],
   "source": [
    "memory.load_memory_variables({})"
   ]
  },
  {
   "cell_type": "code",
   "execution_count": null,
   "metadata": {},
   "outputs": [],
   "source": []
  }
 ],
 "metadata": {
  "kernelspec": {
   "display_name": "test",
   "language": "python",
   "name": "python3"
  },
  "language_info": {
   "codemirror_mode": {
    "name": "ipython",
    "version": 3
   },
   "file_extension": ".py",
   "mimetype": "text/x-python",
   "name": "python",
   "nbconvert_exporter": "python",
   "pygments_lexer": "ipython3",
   "version": "3.9.19"
  }
 },
 "nbformat": 4,
 "nbformat_minor": 2
}
